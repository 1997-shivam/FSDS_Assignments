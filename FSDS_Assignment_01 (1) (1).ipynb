{
 "cells": [
  {
   "cell_type": "code",
   "execution_count": null,
   "id": "e8a64d95",
   "metadata": {},
   "outputs": [],
   "source": [
    "Q1). In the below elements which of them are values or an expression? eg:- values can be\n",
    "integer or string and expressions will be mathematical operators.\n",
    "\n",
    "*  :- expression\n",
    "'hello' :- value\n",
    "-87.8  :- value\n",
    "-  :-  expression\n",
    "/  :-  expression\n",
    "+  :-  expression\n",
    "6  :-  value\n"
   ]
  },
  {
   "cell_type": "code",
   "execution_count": null,
   "id": "3f2f0895",
   "metadata": {},
   "outputs": [],
   "source": [
    "Q2). What is the difference between string and variable?\n",
    "\n",
    "Answer:- \"String\" is the collection of charater,interger and any special character inside double or single quote. whereas \"Variable\" is perticular location in memory where data such as integer,flaot,string etc can be stored."
   ]
  },
  {
   "cell_type": "code",
   "execution_count": null,
   "id": "9d5d02f4",
   "metadata": {},
   "outputs": [],
   "source": [
    "Q3). Describe three different data types.\n",
    "Answer:- There are three type of data types are integer,float and string\n",
    "\n",
    "1)\"Integer\" is data type which is denoted by \"int\" keyword in python language and it only contains numerical value without decimal\n",
    "\n",
    "2)\"Float\" is data type which is denoted by \"float\" keyword in python language and it only contains decimal values\n",
    "\n",
    "3)\"String\" is data type which is denoted by \"str\" keyword in python language and it contain any character,interger or anything inside double or single quote "
   ]
  },
  {
   "cell_type": "code",
   "execution_count": null,
   "id": "e5def6b6",
   "metadata": {},
   "outputs": [],
   "source": [
    "Q4). What is an expression made up of? What do all expressions do?\n",
    "Answer:-An expression is a combination of values, variables, operators, and calls to functions. Expressions need to be evaluated. If we ask Python to print an expression, the interpreter evaluates the expression and displays the result.\n"
   ]
  },
  {
   "cell_type": "code",
   "execution_count": 1,
   "id": "098f1f16",
   "metadata": {},
   "outputs": [
    {
     "data": {
      "text/plain": [
       "187.0"
      ]
     },
     "execution_count": 1,
     "metadata": {},
     "output_type": "execute_result"
    }
   ],
   "source": [
    "20*4-46/2+130 #this is expression evaluted result is 187.0"
   ]
  },
  {
   "cell_type": "code",
   "execution_count": null,
   "id": "c720f3fa",
   "metadata": {},
   "outputs": [],
   "source": [
    "Q5).This assignment statements, like spam = 10. What is the difference between an expression and a statement?\n",
    "\n",
    "Answer: An expression is a combination of values, variables, and operators.When we type an expression at the prompt, the interpreter evaluates it, which means that it finds the value of the expression.\n",
    "eg: 4*5+20-40 is an example of a statement\n",
    "\n",
    "A statement is a unit of code that has an effect, like creating a variable or displaying a value.When we type a statement, the interpreter executes it, which means that it does whatever the statement says. In general, statements don’t have values.\n",
    "eg: variable declaration and assignment are statements because they do not return a value"
   ]
  },
  {
   "cell_type": "code",
   "execution_count": null,
   "id": "df563040",
   "metadata": {},
   "outputs": [],
   "source": [
    "Q6). After running the following code, what does the variable bacon contain?\n",
    "bacon = 22\n",
    "bacon + 1\n",
    "\n",
    "Output:- 22"
   ]
  },
  {
   "cell_type": "code",
   "execution_count": 9,
   "id": "bacf11be",
   "metadata": {},
   "outputs": [
    {
     "name": "stdout",
     "output_type": "stream",
     "text": [
      "22\n"
     ]
    }
   ],
   "source": [
    "bacon = 22\n",
    "bacon + 1            \n",
    "print(bacon) # becon will remain same because one is adding to becon but it is not reassign to baccon again so output will be 22"
   ]
  },
  {
   "cell_type": "code",
   "execution_count": null,
   "id": "4a0e1bb4",
   "metadata": {},
   "outputs": [],
   "source": [
    "Q7). What should the values of the following two terms be?\n",
    "  'spam' + 'spamspam'\n",
    "  'spam' * 3\n",
    "\n",
    "Answer:- 'spam' + 'spamspam'    Output:- 'spamspamspam'\n",
    "         'spam' * 3             Output:- 'spamspamspam'"
   ]
  },
  {
   "cell_type": "code",
   "execution_count": 10,
   "id": "2fd9d296",
   "metadata": {},
   "outputs": [
    {
     "data": {
      "text/plain": [
       "'spamspamspam'"
      ]
     },
     "execution_count": 10,
     "metadata": {},
     "output_type": "execute_result"
    }
   ],
   "source": [
    "'spam' * 3   #String multiplication"
   ]
  },
  {
   "cell_type": "code",
   "execution_count": 11,
   "id": "feadc6c0",
   "metadata": {},
   "outputs": [
    {
     "data": {
      "text/plain": [
       "'spamspamspam'"
      ]
     },
     "execution_count": 11,
     "metadata": {},
     "output_type": "execute_result"
    }
   ],
   "source": [
    "'spam' + 'spamspam' #String Concationation"
   ]
  },
  {
   "cell_type": "code",
   "execution_count": null,
   "id": "f828159f",
   "metadata": {},
   "outputs": [],
   "source": [
    "Q8). Why is eggs a valid variable name while 100 is invalid?\n",
    "Answer: As per python,Variable names cannot begin with a number. The python rules for naming a variable are :-\n",
    "\n",
    "1)Variable name must start with a letter or the underscore character.\n",
    "2)Variable name cannot start with a number.\n",
    "3)Variable name can only contain alpha-numeric characters and underscores (A-z, 0-9, & _ ).\n",
    "4)Variable names are case-sensitive (name, INEURON and ineuron are three different variables).\n",
    "5)The reserved words(keywords) cannot be used naming the variable."
   ]
  },
  {
   "cell_type": "code",
   "execution_count": null,
   "id": "ec04eb36",
   "metadata": {},
   "outputs": [],
   "source": [
    "Q9).What three functions can be used to get the integer,floating-point number,or string version of a value?\n",
    "\n",
    "Answer: The int(),float(),and str() functions will evaluate to the integer,floating-point number,string version of the value passed to them."
   ]
  },
  {
   "cell_type": "code",
   "execution_count": 12,
   "id": "3a783062",
   "metadata": {},
   "outputs": [
    {
     "name": "stdout",
     "output_type": "stream",
     "text": [
      "int(10.0) ->  10\n",
      "float(10) ->  10.0\n",
      "str(10) ->  10\n"
     ]
    }
   ],
   "source": [
    "print('int(10.0) -> ',int(10.0)) # int() function converts given input to int\n",
    "print('float(10) -> ',float(10)) # float() function converts given input to float\n",
    "print('str(10) -> ',str(10)) # str() function converts given input to string"
   ]
  },
  {
   "cell_type": "code",
   "execution_count": null,
   "id": "fcf658a7",
   "metadata": {},
   "outputs": [],
   "source": [
    "Q10). Why does this expression cause an error? How can you fix it?\n",
    "'i have eaten'+99+'burritos'"
   ]
  },
  {
   "cell_type": "code",
   "execution_count": 14,
   "id": "0a8979de",
   "metadata": {},
   "outputs": [
    {
     "ename": "TypeError",
     "evalue": "can only concatenate str (not \"int\") to str",
     "output_type": "error",
     "traceback": [
      "\u001b[1;31m---------------------------------------------------------------------------\u001b[0m",
      "\u001b[1;31mTypeError\u001b[0m                                 Traceback (most recent call last)",
      "Input \u001b[1;32mIn [14]\u001b[0m, in \u001b[0;36m<cell line: 1>\u001b[1;34m()\u001b[0m\n\u001b[1;32m----> 1\u001b[0m \u001b[38;5;124;43m'\u001b[39;49m\u001b[38;5;124;43mi have eaten\u001b[39;49m\u001b[38;5;124;43m'\u001b[39;49m\u001b[38;5;241;43m+\u001b[39;49m\u001b[38;5;241;43m99\u001b[39;49m\u001b[38;5;241m+\u001b[39m\u001b[38;5;124m'\u001b[39m\u001b[38;5;124mburritos\u001b[39m\u001b[38;5;124m'\u001b[39m\n",
      "\u001b[1;31mTypeError\u001b[0m: can only concatenate str (not \"int\") to str"
     ]
    }
   ],
   "source": [
    "'i have eaten'+99+'burritos'  # this expession will throw an typeError because string type can only concatinate with string"
   ]
  }
 ],
 "metadata": {
  "kernelspec": {
   "display_name": "Python 3 (ipykernel)",
   "language": "python",
   "name": "python3"
  },
  "language_info": {
   "codemirror_mode": {
    "name": "ipython",
    "version": 3
   },
   "file_extension": ".py",
   "mimetype": "text/x-python",
   "name": "python",
   "nbconvert_exporter": "python",
   "pygments_lexer": "ipython3",
   "version": "3.9.12"
  }
 },
 "nbformat": 4,
 "nbformat_minor": 5
}
