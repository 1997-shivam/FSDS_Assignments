{
 "cells": [
  {
   "cell_type": "raw",
   "id": "e6e488df",
   "metadata": {},
   "source": [
    "Q1) Why are functions advantageous to have in your programs?\n",
    "Ans:- The main advantage of funtion is to code reusability. In any program we create function so that we can reuse the set of code. it makes the program shorter , easier to read, and easier to update "
   ]
  },
  {
   "cell_type": "raw",
   "id": "9059e174",
   "metadata": {},
   "source": [
    "Q2) When does the code in a function run: when it's specified or when it's called?\n",
    "Ans:- the code in function executes when it is called. and it does not execute when it is specified "
   ]
  },
  {
   "cell_type": "raw",
   "id": "21eab866",
   "metadata": {},
   "source": [
    "Q3) What statement creates a function?\n",
    "Ans:- \"def\" keyword is used to define the function in program.\n",
    "Syntax :-def function_name(parameters): \n",
    "            -----function body-----\n",
    "            return value"
   ]
  },
  {
   "cell_type": "raw",
   "id": "48838db8",
   "metadata": {},
   "source": [
    "Q4) What is the difference between a function and a function call?\n",
    "Ans:- A Function is a block of code that does a particular operation and returns a result and Function call is using or calling the function to perform the perticular task"
   ]
  },
  {
   "cell_type": "raw",
   "id": "830a9162",
   "metadata": {},
   "source": [
    "Q5) How many global scopes are there in a Python program? How many local scopes?\n",
    "Ans:- There is one global scope, and a local scope is created whenever a function is called."
   ]
  },
  {
   "cell_type": "raw",
   "id": "e5a466b8",
   "metadata": {},
   "source": [
    "Q6) What happens to variables in a local scope when the function call returns?\n",
    "Ans:- When a function returns, the local scope is destroyed, and all the variables in it are forgotten."
   ]
  },
  {
   "cell_type": "raw",
   "id": "9e2f31d4",
   "metadata": {},
   "source": [
    "Q7) What is the concept of a return value? Is it possible to have a return value in an expression? \n",
    "Ans:-A return value is the value that a function call evaluates to. Like any value, a return value can be used as part of an expression."
   ]
  },
  {
   "cell_type": "raw",
   "id": "d936d97e",
   "metadata": {},
   "source": [
    "Q8) If a function does not have a return statement, what is the return value of a call to that function?\n",
    "Ans:-If there is no return statement for a function, its return value is None"
   ]
  },
  {
   "cell_type": "raw",
   "id": "04d2d807",
   "metadata": {},
   "source": [
    "Q9) How do you make a function variable refer to the global variable?\n",
    "Ans:- A global statement will force a variable in a function to refer to the global variable. If you want to refer to a global variable in a function, you can use the global keyword to declare which variables are global."
   ]
  },
  {
   "cell_type": "raw",
   "id": "1d990f4d",
   "metadata": {},
   "source": [
    "Q 10) What is the data type of None?\n",
    "Ans:- The data type of None is NoneType."
   ]
  },
  {
   "cell_type": "raw",
   "id": "fce9cfbc",
   "metadata": {},
   "source": [
    "Q 11) What does the sentence import areallyourpetsnamederic do?\n",
    "Ans:- That import statement imports a module named areallyourpetsnamederic"
   ]
  },
  {
   "cell_type": "raw",
   "id": "f2030b5e",
   "metadata": {},
   "source": [
    "Q12) If you had a bacon() feature in a spam module, what would you call it after importing spam?\n",
    "Ans:- This function can be called with spam.bacon()."
   ]
  },
  {
   "cell_type": "raw",
   "id": "2cb99335",
   "metadata": {},
   "source": [
    "Q13) What can you do to save a programme from crashing if it encounters an error?\n",
    "Ans:- Place the line of code that might cause an error in a try clause and use except block to handle the error."
   ]
  },
  {
   "cell_type": "raw",
   "id": "f4ab0f83",
   "metadata": {},
   "source": [
    "Q14) What is the purpose of the try clause?\n",
    "Ans:- The code that could potentially cause an error goes in the try clause. The code that executes if an error happens goes in the except clause"
   ]
  }
 ],
 "metadata": {
  "kernelspec": {
   "display_name": "Python 3 (ipykernel)",
   "language": "python",
   "name": "python3"
  },
  "language_info": {
   "codemirror_mode": {
    "name": "ipython",
    "version": 3
   },
   "file_extension": ".py",
   "mimetype": "text/x-python",
   "name": "python",
   "nbconvert_exporter": "python",
   "pygments_lexer": "ipython3",
   "version": "3.9.12"
  }
 },
 "nbformat": 4,
 "nbformat_minor": 5
}
